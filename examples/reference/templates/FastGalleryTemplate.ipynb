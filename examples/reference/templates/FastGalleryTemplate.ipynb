{
 "cells": [
  {
   "cell_type": "markdown",
   "id": "8af41970-7f1a-4092-b10e-b0a6cfce8260",
   "metadata": {},
   "source": [
    "# FastGalleryTemplate\n",
    "\n",
    "The `FastGalleryTemplate` enables you to add a Gallery of apps and other resources to your Panel site. \n",
    "\n",
    "You can configure the template via the following parameters\n",
    "\n",
    "* **`applications`** (List[Application]): The list of Applications to show in the gallery.\n",
    "* **`target`** (str): How to open the url of the application . One of '_blank', '_parent', '_top' or '_self' (default).\n",
    "\n",
    "## Content\n",
    "\n",
    "* **`site`** (str): The name of the site. Will be shown in the header and link to the `site_url`. Default is 'Panel'.\n",
    "* **`site_url`** (str): The URI of the site and logo. Default is '/'.\n",
    "* **`title`** (str): The name of the gallery. Shown in the header and browser tab. Default is 'Gallery'.\n",
    "* **`footer`** (str): Footer text. Default is ''\n",
    "* **`description`** (str): A description shown in the header. Default is 'Applications running on the server'.\n",
    "\n",
    "\n",
    "## Appearance\n",
    "\n",
    "* **`theme`** (str): One of 'default' or 'dark'.\n",
    "* **`theme_toggle`** (bool): Whether or not to enable toggling the theme via a switchbox. Default is True.\n",
    "* **`accent_base_color`**: The Accent Color. Default is '#E1477E'.\n",
    "* **`background_image`** (str): The URI of an image to show in the header.\n",
    "* **`font_family`** (str): The name of the font family to use. Default is 'Open Sans'.\n",
    "* **`font_url`** (str): The URI of a font family to load. Default is '//fonts.googleapis.com/css?family=Open+Sans'.\n",
    "* **`favicon`** (str): URI of favicon to add to the document head (if local file, favicon is\n",
    "        base64 encoded as URI).\n",
    "\n",
    "## Meta Data\n",
    "\n",
    "To help search engines understand your page\n",
    "\n",
    "* **`meta_name`** (str): A meta name to add to the document head for search engine optimization. For example 'HoloViz Panel Gallery'. If none is specified the title will be used.\n",
    "* **`meta_description`** (str): A meta description to add to the document head for search engine optimization. For example 'Applications running on the server'. If none is specified the description will be used.\n",
    "* **`meta_keywords`** (str): Meta keywords to add to the document head for search engine optimization. For example 'HoloViz, Panel, Gallery'. Default is ''.\n",
    "* **`meta_author`** (str): A meta author to add to the the document head for search engine optimization. For example 'HoloViz Panel'.\n",
    "* **`meta_viewport`** (str): A meta viewport to add to the header.\n",
    "\n",
    "________"
   ]
  },
  {
   "cell_type": "code",
   "execution_count": null,
   "id": "30e63bc8-d8b4-45b1-b970-97ebdf7b9b39",
   "metadata": {},
   "outputs": [],
   "source": [
    "import panel as pn\n",
    "\n",
    "pn.extension(sizing_mode=\"stretch_width\")"
   ]
  },
  {
   "cell_type": "markdown",
   "id": "1d3f2630-5ca7-4f9b-afbb-be09ea30a090",
   "metadata": {},
   "source": [
    "## Reading the list of Applications\n",
    "\n",
    "The easiest way to construct your list of Applications from the gallery is by reading them from a YAML file like [panel/examples/site.yaml](../../site.yaml)"
   ]
  },
  {
   "cell_type": "code",
   "execution_count": null,
   "id": "aada1093-623e-41dd-a5bf-e5e80cc49399",
   "metadata": {},
   "outputs": [],
   "source": [
    "try:\n",
    "    applications = pn.site.Application.read(\"../../site.yaml\") # Notebook\n",
    "except:\n",
    "    applications = pn.site.Application.read(\"examples/site.yaml\") # 'panel serve FastGalleryTemplate.ipynb' from root of project"
   ]
  },
  {
   "cell_type": "markdown",
   "id": "14c36753-070c-471a-9077-685e66682651",
   "metadata": {},
   "source": [
    "Lets take a look at the first Application"
   ]
  },
  {
   "cell_type": "code",
   "execution_count": null,
   "id": "d5dd79d5-83f0-4a73-9148-ffa50ff13eac",
   "metadata": {},
   "outputs": [],
   "source": [
    "app=applications[0]\n",
    "pn.Row(pn.Param(app, expand_button=False), pn.Tabs(pn.Param(app.author), pn.Param(app.owner)), max_width=900)"
   ]
  },
  {
   "cell_type": "markdown",
   "id": "e986829c-d97a-4a8a-b8a3-629678e529bc",
   "metadata": {},
   "source": [
    "For full control you can also create your list of `panel.site.Application`s via code."
   ]
  },
  {
   "cell_type": "markdown",
   "id": "24374205-4f30-4a9f-9170-fe4cca419a58",
   "metadata": {},
   "source": [
    "## Serving the Gallery"
   ]
  },
  {
   "cell_type": "code",
   "execution_count": null,
   "id": "31a8c4ea-9dc0-4812-9e3d-133580263e2f",
   "metadata": {},
   "outputs": [],
   "source": [
    "pn.template.FastGalleryTemplate(\n",
    "    site=\"Panel\",\n",
    "    site_url=\"https://panel.holoviz.org\",\n",
    "    title=\"Gallery\",\n",
    "    applications=applications,\n",
    "    accent_base_color=\"green\",\n",
    "    footer=\"Made with &#x1f40d;, &#10084;&#65039; and <fast-anchor href='https://panel.holoviz.org' appearance='hypertext' target='_blank'>Panel</fast-anchor>.\",\n",
    ").servable();"
   ]
  },
  {
   "cell_type": "markdown",
   "id": "cb586d11-b948-4ac3-a105-2c2bc84255f1",
   "metadata": {},
   "source": [
    "Serve the gallery using `panel serve FastGalleryTemplate.ipynb`."
   ]
  },
  {
   "cell_type": "markdown",
   "id": "664c2997-6cd3-4cbf-90e3-b197090bd98a",
   "metadata": {},
   "source": [
    "<img src=\"../../assets/FastGalleryTemplateDefault.png\" style=\"margin-left: auto; margin-right: auto; max-height: 600px\"></img>\n",
    "<img src=\"../../assets/FastGalleryTemplateDark.png\" style=\"margin-left: auto; margin-right: auto; max-height: 600px\"></img>"
   ]
  }
 ],
 "metadata": {
  "kernelspec": {
   "display_name": "Python 3",
   "language": "python",
   "name": "python3"
  },
  "language_info": {
   "codemirror_mode": {
    "name": "ipython",
    "version": 3
   },
   "file_extension": ".py",
   "mimetype": "text/x-python",
   "name": "python",
   "nbconvert_exporter": "python",
   "pygments_lexer": "ipython3",
   "version": "3.8.4"
  }
 },
 "nbformat": 4,
 "nbformat_minor": 5
}
